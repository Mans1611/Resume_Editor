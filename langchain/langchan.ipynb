{
 "cells": [
  {
   "cell_type": "code",
   "execution_count": 1,
   "metadata": {},
   "outputs": [
    {
     "name": "stderr",
     "output_type": "stream",
     "text": [
      "c:\\Users\\Shehab\\AppData\\Local\\Programs\\Python\\Python311\\Lib\\site-packages\\tqdm\\auto.py:21: TqdmWarning: IProgress not found. Please update jupyter and ipywidgets. See https://ipywidgets.readthedocs.io/en/stable/user_install.html\n",
      "  from .autonotebook import tqdm as notebook_tqdm\n"
     ]
    }
   ],
   "source": [
    "import pandas as pd \n",
    "from dotenv import load_dotenv\n",
    "from langchain.document_loaders import DirectoryLoader,TextLoader\n",
    "import os \n",
    "import google.generativeai as genai\n",
    "from langchain.prompts import PromptTemplate\n",
    "from langchain_google_genai import GoogleGenerativeAI\n",
    "import docx\n",
    "import markdown\n",
    "import PyPDF2\n",
    "import helpers\n",
    "import mlflow\n",
    "from IPython.core.display import HTML"
   ]
  },
  {
   "cell_type": "code",
   "execution_count": 2,
   "metadata": {},
   "outputs": [
    {
     "data": {
      "text/plain": [
       "'Shehab Diab\\n+20 1100121212 - shehabgehaddiab@gmail.com - Cairo, Egypt\\nLinkedIn Github Datacamp Kaggle Leetcode\\nEducation\\nBSc Computer Science, AI Major Cairo University Cairo, Egypt 2021-2025\\nRelevant Courses: Software Engineering, Database, Web Development, Machine Learning, Supervised Learning, Signals &\\nSystems, Discrete Math, Linear Algebra & Calculus, Statistics, Algorithms & Data Structures, OOP\\nProjects\\nFlight Reservation System Application - GitHub University Assignment\\n•Users have accounts and can Search/Book/Manage flights, and Admins can Create/Modify/Cancel flights and aircrafts.\\n•Using : C#, WinForms, and MS SQL server, Regex, Stored Procedures.\\nEvolutionary Computation Algorithms - GitHub University Assignment\\n•Solved Travelling Salesman Problem using Ant Colony Optimization, trained a Genetic algorithm to play Tetris on its own.\\n•Using : NumPy, Pandas, Matplotlib, Seaborn, Pygame, Manim.\\nRice Type Detection Project - Kaggle Personal Project\\n•Classifying 5 different types of rice, image dataset pre-processing, Implementing/Training 7 CNN models from scratch.\\n•Using : TensorFlow, NumPy, Pandas, Matplotlib, Seaborn, CNNs.\\nHuman Resources Web Application - GitHub University Assignment\\n•App Allows HRs to Manage employee data and vacations. Admins can create, modify employee information, approve or reject\\nemployee vacation requests.\\n•Using : HTML, CSS, Java Script, Python Django, Regex.\\nData structures/Sorting Library - GitHub Personal Project\\n•Library Contains: Custom Vector with Allocators, Singly, Circular, Doubly Linked List, (Min-Max Heap), BST and AVL Tree.\\n•Using : C++ Applying Move semantics, std::allocators.\\nCourses & Certifications\\n•Huawei ICT Academy Course – Training in Artificial Intelligence (Sept. 2023) - Huawei\\n•Machine Learning Specialization by Andrew NG. - Stanford University & Deeplearning.AI. (Ap. 2024) - Coursera\\n•CS50x 2021 Harvard Course – Introduction to Computer Science by David Malan. (Feb. 2022) - Self-Study\\n•CS106B Stanford Course – Programming abstractions By Julie Zelenski. (Aug. 2022) - Self-Study\\n•Data Analysis Track – Datacamp Data Analysis. (Currently studying)\\nSkills\\n•Programming Languages: C++, C#, JS, Python\\n•Web Applications: HTML, CSS, JS, Bootstrap, Django\\n•Database: MS SQL Server, Sqlite3\\n•AI Knowledge: NumPy, Pandas, EDA, Matplotlib, Scikit-learn, TensorFlow, SciPy, Machine Learning,\\nANNs, CNNs, Recommender Systems, Supervised/Unsupervised/Reinforcement Learning\\n•Frameworks: Bootstrap, .NET Framework, Django, Scikit-learn, TensorFlow\\n•Version Control: Git, GitHub\\n•Other: Regex, SOLID Principles, OOP, Design Patterns, Database design, Software Design,\\nAlgorithmic thinking, Verilog, and Problem solving, Outlook, Excel, Power Point, Word.\\nLanguages\\nArabic [Native] English [Intermediate] German [Basic] A1'"
      ]
     },
     "execution_count": 2,
     "metadata": {},
     "output_type": "execute_result"
    }
   ],
   "source": [
    "RESUME_PATH = 'C:\\\\Users\\\\Shehab\\\\Downloads\\\\Shehab_Diab_CV.pdf'\n",
    "resume = helpers.extract_text_from_pdf(RESUME_PATH)\n",
    "resume"
   ]
  },
  {
   "cell_type": "code",
   "execution_count": 3,
   "metadata": {},
   "outputs": [],
   "source": [
    "# here i create the prompt that will be feed to the llm as input.\n",
    "PROMPT_TEMPLATE = '''\n",
    "        You are a resume editor AI tool, \n",
    "        your role is to modify the given and based on the given job descripiton \n",
    "        Notes: \n",
    "        - You can reorder the projects and the experince based on the wanted job description.\n",
    "        - The technical skills and soft skill are unchanged in the modified resume.\n",
    "        - Make sure that you handle the job title in the resume to be as the job descrition job title.\n",
    "        - The Sections in the resume be Experince first and then Projects or Education.\n",
    "        - If in the resume the GPA was above 3 mention it, otherwise do not mention the GPA and remove it.\n",
    "        - You can change words of the resume to be more convienent.\n",
    "        - Do not add non existent skills or experiences to the main resume\n",
    "        - Do not create new titles, skills, experiences in the new resume from the job description\n",
    "        - remove any entity that is not related to the job description \n",
    "        here is the given resume : \n",
    "        {resume}\n",
    "        -----------------------------\n",
    "        and here is the job descriptio n: \n",
    "        {job_description}\n",
    "        \n",
    "        Based on the above job description try to edit and arrange the resume, to fit the given job description.\n",
    "    '''\n",
    "\n",
    "prompt = PromptTemplate(\n",
    "    template = PROMPT_TEMPLATE,\n",
    "    input_variables = ['resume','job_description'] # the input will be formated to the prompt like placeholders\n",
    ")"
   ]
  },
  {
   "cell_type": "code",
   "execution_count": 4,
   "metadata": {},
   "outputs": [],
   "source": [
    "# creating the LLM model. \n",
    "load_dotenv()\n",
    "API_KEY=os.environ['GOOGLE_API_KEY']\n",
    "\n",
    "if API_KEY == None:\n",
    "    API_KEY = 'Give User Error' ## secret do not share it or use it too much \n",
    "\n",
    "genai.configure(api_key=API_KEY)\n",
    "TEMPRATURE = 0.5\n",
    "llm = GoogleGenerativeAI(google_api_key=API_KEY,model='gemini-1.5-flash', temprature=TEMPRATURE) ## here the temprature is how much you want your model to be creative and choose random choices."
   ]
  },
  {
   "cell_type": "code",
   "execution_count": 5,
   "metadata": {},
   "outputs": [],
   "source": [
    "job_description = '''\n",
    "    This is an on-site part time role for a Full Stack/Python Instructor at AMIT Learning. The Instructor will be responsible for planning and delivering high-quality training sessions on Full Stack and Python development. Daily tasks include developing course materials, conducting hands-on training sessions, and providing mentorship and guidance to students.\n",
    "\n",
    "Qualifications\n",
    " \n",
    "⦁ University degree in Computer Science, Software Engineering, or similar.\n",
    "⦁ 2 to 4 years of experience in back-end development using Python.\n",
    "⦁ Proven experience in building server-side applications and RESTful APIs.\n",
    "⦁ Proficient in Python frameworks like Django or Flask.\n",
    "⦁ Familiarity with front-end technologies like HTML, CSS, and JavaScript.\n",
    "⦁ Strong understanding of database management (SQL, NoSQL) and ORM tools.\n",
    "⦁ Experience with cloud platforms like AWS, Azure, or Google Cloud.\n",
    "⦁ Working experience with version control systems (e.g., Git).\n",
    "⦁ Knowledge of Agile methods and practices.\n",
    "⦁ Very good English.\n",
    "⦁ Presentable with excellent communication skills.\n",
    "\n",
    "\n",
    "Responsibilities:\n",
    "\n",
    "\n",
    "Conducting and delivering direct training sessions for internal and external clients.\n",
    "Prepare and evaluate diploma materials, presentations, assignments, graduation projects and the final exam.\n",
    "Answer students’ questions and provide quick support.\n",
    "'''\n",
    "result = llm.invoke(prompt.format(resume=resume,job_description=job_description))"
   ]
  },
  {
   "cell_type": "code",
   "execution_count": 6,
   "metadata": {},
   "outputs": [
    {
     "data": {
      "text/html": [
       "<h2>Shehab Diab</h2>\n",
       "<p>+20 1100121212 - shehabgehaddiab@gmail.com - Cairo, Egypt\n",
       "LinkedIn Github Datacamp Kaggle Leetcode</p>\n",
       "<p><strong>Experience</strong></p>\n",
       "<p><strong>Full Stack/Python Instructor</strong> (Part-Time) |  <strong>AMIT Learning</strong> | Cairo, Egypt | <strong>Present</strong> \n",
       "* Conduct and deliver direct training sessions for internal and external clients on Full Stack and Python development.\n",
       "* Prepare and evaluate diploma materials, presentations, assignments, graduation projects, and the final exam.\n",
       "* Answer students’ questions and provide quick support.</p>\n",
       "<p><strong>Projects</strong></p>\n",
       "<p><strong>Human Resources Web Application</strong> - GitHub | University Assignment\n",
       "* Developed a web application that allows HRs to manage employee data and vacations.\n",
       "* Implemented features for admins to create, modify employee information, and approve or reject employee vacation requests.\n",
       "* <strong>Technologies:</strong> HTML, CSS, JavaScript, Python Django, Regex.</p>\n",
       "<p><strong>Flight Reservation System Application</strong> - GitHub | University Assignment\n",
       "* Developed a system where users can create accounts, search, book, and manage flights. Admins can create, modify, and cancel flights and aircrafts.\n",
       "* <strong>Technologies:</strong> C#, WinForms, MS SQL server, Regex, Stored Procedures.</p>\n",
       "<p><strong>Education</strong></p>\n",
       "<p>BSc Computer Science, AI Major | Cairo University | Cairo, Egypt | 2021-2025\n",
       "* Relevant Courses: Software Engineering, Database, Web Development, Machine Learning, Supervised Learning, Signals &amp; Systems, Discrete Math, Linear Algebra &amp; Calculus, Statistics, Algorithms &amp; Data Structures, OOP</p>\n",
       "<p><strong>Skills</strong></p>\n",
       "<ul>\n",
       "<li><strong>Programming Languages:</strong> C++, C#, JS, Python</li>\n",
       "<li><strong>Web Applications:</strong> HTML, CSS, JS, Bootstrap, Django</li>\n",
       "<li><strong>Database:</strong> MS SQL Server, Sqlite3</li>\n",
       "<li><strong>Frameworks:</strong> Bootstrap, .NET Framework, Django</li>\n",
       "<li><strong>Version Control:</strong> Git, GitHub</li>\n",
       "<li><strong>Other:</strong> Regex, SOLID Principles, OOP, Design Patterns, Database design, Software Design, Algorithmic thinking, Verilog, and Problem solving, Outlook, Excel, Power Point, Word.</li>\n",
       "</ul>\n",
       "<p><strong>Languages</strong></p>\n",
       "<p>Arabic [Native] English [Intermediate] German [Basic] A1 </p>"
      ],
      "text/plain": [
       "<IPython.core.display.HTML object>"
      ]
     },
     "execution_count": 6,
     "metadata": {},
     "output_type": "execute_result"
    }
   ],
   "source": [
    "new_resume = HTML(markdown.markdown(result))\n",
    "new_resume"
   ]
  },
  {
   "cell_type": "code",
   "execution_count": 7,
   "metadata": {},
   "outputs": [],
   "source": [
    "html_resume_path = helpers.write_html_file(new_resume)"
   ]
  },
  {
   "cell_type": "code",
   "execution_count": 8,
   "metadata": {},
   "outputs": [
    {
     "data": {
      "text/plain": [
       "<Experiment: artifact_location='file:///c:/Users/Shehab/Desktop/work/Resume_Editor/langchain/mlruns/859881590886885442', creation_time=1727429074364, experiment_id='859881590886885442', last_update_time=1727429074364, lifecycle_stage='active', name='CV Generation', tags={}>"
      ]
     },
     "execution_count": 8,
     "metadata": {},
     "output_type": "execute_result"
    }
   ],
   "source": [
    "mlflow.set_experiment(\"CV Generation\")"
   ]
  },
  {
   "cell_type": "code",
   "execution_count": 9,
   "metadata": {},
   "outputs": [],
   "source": [
    "with mlflow.start_run():\n",
    "    mlflow.log_param(\"prompt\", PROMPT_TEMPLATE)\n",
    "    mlflow.log_artifact(RESUME_PATH, artifact_path=\"resumes/old/shehab\")\n",
    "    mlflow.log_artifact(html_resume_path, artifact_path=\"resumes/new/shehab\")\n",
    "    mlflow.log_param(\"job_description\", job_description)\n",
    "    mlflow.log_param(\"tempreture\", TEMPRATURE)\n",
    "\n",
    "    mlflow.log_param(\"CV Generator Version\", \"V1\")\n"
   ]
  }
 ],
 "metadata": {
  "kernelspec": {
   "display_name": "resume_maker",
   "language": "python",
   "name": "python3"
  },
  "language_info": {
   "codemirror_mode": {
    "name": "ipython",
    "version": 3
   },
   "file_extension": ".py",
   "mimetype": "text/x-python",
   "name": "python",
   "nbconvert_exporter": "python",
   "pygments_lexer": "ipython3",
   "version": "3.11.4"
  }
 },
 "nbformat": 4,
 "nbformat_minor": 2
}
